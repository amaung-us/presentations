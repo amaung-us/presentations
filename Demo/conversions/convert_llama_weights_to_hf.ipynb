{
 "cells": [
  {
   "cell_type": "code",
   "execution_count": null,
   "id": "15b5037e-dc7d-42e7-9474-dfc638256dc0",
   "metadata": {},
   "outputs": [],
   "source": [
    "# convert facebook model to hugginface\n",
    "dirOfModels = \"../llm-models/llama2/\"\n",
    "modelSize = \"7B\"\n",
    "convertedModelName=\"7B_HF\"\n",
    "outputDir = \"../llm-models/hf_converted_models/\"+convertedModelName\n",
    "!python3 ../llm-models/convert_llama_weights_to_hf.py    --input_dir $dirOfModels --model_size $modelSize --output_dir $outputDir"
   ]
  },
  {
   "cell_type": "code",
   "execution_count": null,
   "id": "091ad23e-a747-49f2-9d20-7f07be4c97e2",
   "metadata": {},
   "outputs": [],
   "source": []
  }
 ],
 "metadata": {
  "kernelspec": {
   "display_name": "Python 3 (ipykernel)",
   "language": "python",
   "name": "python3"
  },
  "language_info": {
   "codemirror_mode": {
    "name": "ipython",
    "version": 3
   },
   "file_extension": ".py",
   "mimetype": "text/x-python",
   "name": "python",
   "nbconvert_exporter": "python",
   "pygments_lexer": "ipython3",
   "version": "3.9.6"
  }
 },
 "nbformat": 4,
 "nbformat_minor": 5
}
