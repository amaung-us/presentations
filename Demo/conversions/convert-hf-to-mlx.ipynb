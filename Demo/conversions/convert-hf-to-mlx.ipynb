{
 "cells": [
  {
   "cell_type": "code",
   "execution_count": null,
   "metadata": {},
   "outputs": [],
   "source": [
    "!pip install mlx\n",
    "#https://github.com/ml-explore/mlx"
   ]
  },
  {
   "cell_type": "code",
   "execution_count": 1,
   "id": "b2094048-98cc-4436-839f-4238b1694328",
   "metadata": {},
   "outputs": [],
   "source": [
    "import warnings\n",
    "warnings.filterwarnings('ignore')"
   ]
  },
  {
   "cell_type": "code",
   "execution_count": 2,
   "id": "6b58f6f5-b8c7-472d-81e2-1627aecbcea2",
   "metadata": {},
   "outputs": [],
   "source": [
    "hf_converted_model_path=\"../Models/saved-model\"\n",
    "baseModelPath = hf_converted_model_path\n",
    "mlxModelPath = \"../Models/mlx_models/new-saved-model\"\n"
   ]
  },
  {
   "cell_type": "code",
   "execution_count": 3,
   "id": "06c5d8e6-0c26-4247-9a39-842b166b94d3",
   "metadata": {},
   "outputs": [
    {
     "name": "stdout",
     "output_type": "stream",
     "text": [
      "Help on function convert in module mlx_lm.utils:\n",
      "\n",
      "convert(hf_path: str, mlx_path: str = 'mlx_model', quantize: bool = False, q_group_size: int = 64, q_bits: int = 4, dtype: str = 'float16', upload_repo: str = None, revision: Optional[str] = None, dequantize: bool = False)\n",
      "\n"
     ]
    }
   ],
   "source": [
    "from mlx_lm import convert, generate, load, stream_generate\n",
    "help(convert)"
   ]
  },
  {
   "cell_type": "code",
   "execution_count": 4,
   "id": "049d53f6-ad0f-41d8-9c77-ff2e5e609d85",
   "metadata": {},
   "outputs": [
    {
     "name": "stderr",
     "output_type": "stream",
     "text": [
      "Special tokens have been added in the vocabulary, make sure the associated word embeddings are fine-tuned or trained.\n"
     ]
    },
    {
     "name": "stdout",
     "output_type": "stream",
     "text": [
      "[INFO] Loading\n",
      "[WARNING] rope_scaling 'type' currently only supports 'linear' setting rope scaling to false.\n",
      "Converted to MLX Model\n"
     ]
    }
   ],
   "source": [
    "#convert(hf_path=baseModelPath, mlx_path=mlxModelPath, quantize=True, q_bits=8)\n",
    "convert(hf_path=baseModelPath, mlx_path=mlxModelPath)\n",
    "print('Converted to MLX Model')"
   ]
  },
  {
   "cell_type": "code",
   "execution_count": 5,
   "id": "27b605fe-ecca-44ff-b2e7-288aeb00b12d",
   "metadata": {},
   "outputs": [
    {
     "name": "stdout",
     "output_type": "stream",
     "text": [
      "[WARNING] rope_scaling 'type' currently only supports 'linear' setting rope scaling to false.\n"
     ]
    },
    {
     "name": "stderr",
     "output_type": "stream",
     "text": [
      "Special tokens have been added in the vocabulary, make sure the associated word embeddings are fine-tuned or trained.\n"
     ]
    },
    {
     "name": "stdout",
     "output_type": "stream",
     "text": [
      "Model loaded into memory\n"
     ]
    }
   ],
   "source": [
    "repo = mlxModelPath\n",
    "model, tokenizer = load(repo)\n",
    "print('Model loaded into memory')"
   ]
  },
  {
   "cell_type": "code",
   "execution_count": 7,
   "id": "1604f7f2-04f0-4e99-be27-520e05e35da0",
   "metadata": {},
   "outputs": [
    {
     "name": "stdout",
     "output_type": "stream",
     "text": [
      "\n",
      "Min and Lwin are experienced technical presenters who cover a wide range of topics including:\n",
      "\n",
      "1. Machine Learning Algorithms: Min and Lwin delve into the intricacies of popular machine learning algorithms such as decision trees, random forests, and support vector machines. They explain how these algorithms work, their strengths, and limitations. Attendees gain a solid foundation in machine learning and its real-world applications.\n",
      "\n",
      "2. Data Visualization Techniques: Min and Lwin explore the art of presenting complex data in a visually appealing and easily understandable manner. They cover various data visualization techniques, including charts, graphs, and interactive dashboards. Attendees learn how to choose the right visualization technique for their data and effectively communicate insights to diverse audiences.\n",
      "\n",
      "3. Ethical Considerations in AI: Min and Lwin shed light on the ethical challenges surrounding the development and deployment of artificial intelligence systems. They discuss topics such as bias in machine learning algorithms, transparency in decision-making processes, and the societal impact of AI technologies. Attendees gain a deeper understanding of the ethical considerations in AI and how to navigate them responsibly.\n",
      "\n",
      "Min and Lwin's technical presentations are highly regarded in the industry for their clarity, depth of knowledge, and ability to engage diverse audiences. Whether you're a data scientist, machine learning enthusiast, or simply curious about the latest advancements in technology, Min and Lwin's presentations are sure to inspire and educate. So mark your calendars and join Min and Lwin for an unforgettable journey into the world of cutting-edge technologies. Don't miss this opportunity to expand your knowledge, network with like-minded professionals, and be at the forefront of innovation. We look forward to seeing you there!\n",
      "\n",
      "(Note: The above story is a fictional creation and does not represent real individuals or events.)\n",
      "\n"
     ]
    }
   ],
   "source": [
    "#Run a test promp\n",
    "prompt = \"What type of technical presentations does Min and Lwin speak on??\"\n",
    "\n",
    "for t in stream_generate(model, tokenizer, prompt, max_tokens=512):\n",
    "    print(t, end=\"\", flush=True)\n",
    "print()"
   ]
  },
  {
   "cell_type": "code",
   "execution_count": null,
   "id": "51b58c3f-84fe-4244-9d91-64b3dbc379b3",
   "metadata": {},
   "outputs": [],
   "source": []
  }
 ],
 "metadata": {
  "kernelspec": {
   "display_name": "Python 3 (ipykernel)",
   "language": "python",
   "name": "python3"
  },
  "language_info": {
   "codemirror_mode": {
    "name": "ipython",
    "version": 3
   },
   "file_extension": ".py",
   "mimetype": "text/x-python",
   "name": "python",
   "nbconvert_exporter": "python",
   "pygments_lexer": "ipython3",
   "version": "3.9.6"
  }
 },
 "nbformat": 4,
 "nbformat_minor": 5
}
