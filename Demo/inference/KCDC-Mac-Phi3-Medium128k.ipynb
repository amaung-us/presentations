{
 "cells": [
  {
   "cell_type": "code",
   "execution_count": 1,
   "id": "e2c692eb-2954-49f8-ac66-474e7d434d6c",
   "metadata": {},
   "outputs": [],
   "source": [
    "import warnings\n",
    "warnings.filterwarnings('ignore')"
   ]
  },
  {
   "cell_type": "code",
   "execution_count": 2,
   "id": "660df651-34a3-4072-8aa3-fcc41bc42fa2",
   "metadata": {},
   "outputs": [],
   "source": [
    "\n",
    "mlxModelPath =\"../Models/mlx_models/Phi-3-medium-128k-instruct\"\n",
    "adapter_path=\"../Models/FineTune/Phi-3-medium-128k-instruct/Adapters\""
   ]
  },
  {
   "cell_type": "code",
   "execution_count": 3,
   "id": "d7372231-3887-490c-bbfd-d8fbfc350041",
   "metadata": {},
   "outputs": [],
   "source": [
    "from mlx_lm import generate, load, stream_generate"
   ]
  },
  {
   "cell_type": "code",
   "execution_count": 4,
   "id": "71ba30cc-0044-467f-904a-69c7ce22174c",
   "metadata": {},
   "outputs": [
    {
     "name": "stdout",
     "output_type": "stream",
     "text": [
      "[WARNING] rope_scaling 'type' currently only supports 'linear' setting rope scaling to false.\n"
     ]
    },
    {
     "name": "stderr",
     "output_type": "stream",
     "text": [
      "Special tokens have been added in the vocabulary, make sure the associated word embeddings are fine-tuned or trained.\n"
     ]
    },
    {
     "name": "stdout",
     "output_type": "stream",
     "text": [
      "Model loaded into memory\n"
     ]
    }
   ],
   "source": [
    "\n",
    "model, tokenizer = load(path_or_hf_repo =mlxModelPath,\n",
    "                      adapter_path = adapter_path # path to new trained adaptor\n",
    "                      )\n",
    "print('Model loaded into memory')"
   ]
  },
  {
   "cell_type": "code",
   "execution_count": 7,
   "id": "04448fee-4af0-42cc-ba8c-31d8bfca0310",
   "metadata": {},
   "outputs": [
    {
     "name": "stdout",
     "output_type": "stream",
     "text": [
      "Starting streaming?\n",
      "\n",
      "\n",
      "Title: Exploring the Intersection of Blockchain and IoT for Secure, Scalable Systems\n",
      "\n",
      "Abstract:\n",
      "\n",
      "In today's digital age, the convergence of blockchain and the Internet of Things (IoT) holds tremendous potential for creating secure, scalable systems. This presentation, drawn from the expertise of Min Maung and Lwin Maung, two distinguished speakers in the field, will delve into the technical synergy between blockchain and IoT.\n",
      "\n",
      "We will begin by exploring the fundamental concepts of blockchain, distributed ledger technology, and their applications in creating tamper-proof, decentralized systems. Next, we will examine the core components of IoT, including sensors, actuators, and communication protocols, which enable seamless machine-to-machine interaction.\n",
      "\n",
      "The heart of this presentation lies in the intersection of blockchain and IoT. We will showcase how blockchain's immutability, transparency, and consensus mechanisms can be harnessed to secure data transmission between IoT devices. This fusion of technologies paves the way for innovative applications, such as supply chain management, smart cities, and healthcare monitoring.\n",
      "\n",
      "In conclusion, Min Maung and Lwin Maung will demonstrate that blockchain and IoT are not just buzzwords but powerful tools that, when combined, can revolutionize the way we interact with the digital\n",
      "Finished streaming\n"
     ]
    }
   ],
   "source": [
    "\n",
    "prompt = \"Write a new conference abstract based on technologies that Min Maung and Lwin Maung normally talk about. Make sure to mention the speakers for this session.\"\n",
    "\n",
    "\n",
    "eos=\"<unk>\"\n",
    "end=\"<|end|>\"\n",
    "print('Starting streaming?')\n",
    "for t in stream_generate(model, tokenizer, prompt, max_tokens=1024, temp=0.7):\n",
    "    if eos in t or end in t:\n",
    "        break\n",
    "    print(t, end=\"\", flush=True)\n",
    "print()\n",
    "print('Finished streaming')"
   ]
  },
  {
   "cell_type": "code",
   "execution_count": null,
   "id": "3fbeb7ce-6d09-4d2c-831e-7e491cf819f6",
   "metadata": {},
   "outputs": [],
   "source": []
  }
 ],
 "metadata": {
  "kernelspec": {
   "display_name": "Python 3 (ipykernel)",
   "language": "python",
   "name": "python3"
  },
  "language_info": {
   "codemirror_mode": {
    "name": "ipython",
    "version": 3
   },
   "file_extension": ".py",
   "mimetype": "text/x-python",
   "name": "python",
   "nbconvert_exporter": "python",
   "pygments_lexer": "ipython3",
   "version": "3.9.6"
  }
 },
 "nbformat": 4,
 "nbformat_minor": 5
}
