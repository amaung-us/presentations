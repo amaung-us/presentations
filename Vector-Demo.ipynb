{
 "cells": [
  {
   "cell_type": "code",
   "execution_count": null,
   "metadata": {},
   "outputs": [],
   "source": [
    "!pip install chromadb"
   ]
  },
  {
   "cell_type": "code",
   "execution_count": 2,
   "id": "b011a346-929d-48a5-b7aa-f91a8343646c",
   "metadata": {},
   "outputs": [],
   "source": [
    "import chromadb\n",
    "chroma_client = chromadb.Client()"
   ]
  },
  {
   "cell_type": "code",
   "execution_count": 3,
   "id": "f74d5ed9-74bf-4900-8802-6f36f0ee1fcb",
   "metadata": {},
   "outputs": [],
   "source": [
    "\n",
    "collection = chroma_client.create_collection(name=\"my_collection\")"
   ]
  },
  {
   "cell_type": "code",
   "execution_count": 4,
   "id": "db0d585e-28be-4c29-a796-dfcf82a01d67",
   "metadata": {},
   "outputs": [],
   "source": [
    "collection.add(\n",
    "    documents=[\n",
    "        \"This is a document about pineapple\",\n",
    "        \"This is a document about oranges\",\n",
    "        \"This is a document about grapes\"\n",
    "    ],\n",
    "    ids=[\"id1\", \"id2\", \"id3\"],\n",
    "    metadatas= [\n",
    "        {\"source\":\"fruits of asia\",\"page\":32},\n",
    "        {\"source\":\"fruits of america\",\"page\":72},\n",
    "        {\"source\":\"wines of america\",\"page\":101}]\n",
    ")"
   ]
  },
  {
   "cell_type": "code",
   "execution_count": 9,
   "id": "016695ce-302f-441a-aa77-c7c241a85b6b",
   "metadata": {},
   "outputs": [
    {
     "name": "stdout",
     "output_type": "stream",
     "text": [
      "{'ids': [['id3']], 'distances': [[1.1817386150360107]], 'metadatas': [[{'page': 101, 'source': 'wines of america'}]], 'embeddings': None, 'documents': [['This is a document about grapes']], 'uris': None, 'data': None, 'included': ['metadatas', 'documents', 'distances']}\n"
     ]
    }
   ],
   "source": [
    "\n",
    "results = collection.query(\n",
    "    query_texts=[\"This is a query document about california\"], # Chroma will embed this for you\n",
    "    n_results=1, # how many results to return\n",
    "    include=[\"metadatas\",\"documents\",\"distances\"]\n",
    ")\n",
    "\n",
    "print(results)"
   ]
  },
  {
   "cell_type": "code",
   "execution_count": 10,
   "id": "92d2f5f2-f4ef-4ab2-a3c8-d1d8ab15fdb5",
   "metadata": {},
   "outputs": [],
   "source": [
    "# Function to delete documents by IDs\n",
    "def delete_documents(collection, ids):\n",
    "    if ids:\n",
    "        # Delete the documents by IDs\n",
    "        collection.delete(ids=ids)\n",
    "        print(\"Documents have been deleted from the collection.\")\n",
    "    else:\n",
    "        print(\"No documents found with the given filename.\")\n"
   ]
  },
  {
   "cell_type": "code",
   "execution_count": 11,
   "id": "ae64a9a2-185a-4c9e-b803-f5533447b83d",
   "metadata": {},
   "outputs": [
    {
     "name": "stdout",
     "output_type": "stream",
     "text": [
      "Documents have been deleted from the collection.\n"
     ]
    }
   ],
   "source": [
    "delete_documents(collection, \"id2\")"
   ]
  },
  {
   "cell_type": "code",
   "execution_count": 12,
   "id": "f0796ef0-bdaf-45ea-91a2-83f94c41c61b",
   "metadata": {},
   "outputs": [
    {
     "name": "stdout",
     "output_type": "stream",
     "text": [
      "{'ids': [['id3', 'id1']], 'distances': [[1.249683141708374, 1.301512360572815]], 'metadatas': [[{'page': 101, 'source': 'wines of america'}, {'page': 32, 'source': 'fruits of asia'}]], 'embeddings': None, 'documents': [['This is a document about grapes', 'This is a document about pineapple']], 'uris': None, 'data': None, 'included': ['metadatas', 'documents', 'distances']}\n"
     ]
    }
   ],
   "source": [
    "results = collection.query(\n",
    "    query_texts=[\"This is a query document about florida\"], # Chroma will embed this for you\n",
    "    n_results=2, # how many results to return\n",
    "    #include=[\"metadatas\",\"documents\",\"distances\",\"embeddings\"]\n",
    ")\n",
    "\n",
    "print(results)"
   ]
  },
  {
   "cell_type": "code",
   "execution_count": null,
   "id": "0e943439-8173-41da-90cc-4ff8723f6b6d",
   "metadata": {},
   "outputs": [],
   "source": []
  }
 ],
 "metadata": {
  "kernelspec": {
   "display_name": "Python 3 (ipykernel)",
   "language": "python",
   "name": "python3"
  },
  "language_info": {
   "codemirror_mode": {
    "name": "ipython",
    "version": 3
   },
   "file_extension": ".py",
   "mimetype": "text/x-python",
   "name": "python",
   "nbconvert_exporter": "python",
   "pygments_lexer": "ipython3",
   "version": "3.9.6"
  }
 },
 "nbformat": 4,
 "nbformat_minor": 5
}
